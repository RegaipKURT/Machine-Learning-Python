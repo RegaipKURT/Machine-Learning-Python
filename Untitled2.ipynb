{
  "nbformat": 4,
  "nbformat_minor": 0,
  "metadata": {
    "colab": {
      "name": "Untitled2.ipynb",
      "provenance": [],
      "collapsed_sections": [],
      "authorship_tag": "ABX9TyMtQ4nwg2910HqEytojWndo",
      "include_colab_link": true
    },
    "kernelspec": {
      "name": "python3",
      "display_name": "Python 3"
    },
    "language_info": {
      "name": "python"
    }
  },
  "cells": [
    {
      "cell_type": "markdown",
      "metadata": {
        "id": "view-in-github",
        "colab_type": "text"
      },
      "source": [
        "<a href=\"https://colab.research.google.com/github/RegaipKURT/Machine-Learning-Python/blob/master/Untitled2.ipynb\" target=\"_parent\"><img src=\"https://colab.research.google.com/assets/colab-badge.svg\" alt=\"Open In Colab\"/></a>"
      ]
    },
    {
      "cell_type": "markdown",
      "metadata": {
        "id": "Ths-mUn_Wp1i"
      },
      "source": [
        "# Qualitics of Products - BUTS (Bozüyük Üretim Takip Sistemi)\n",
        "\n",
        "##Dateset Description\n",
        "The datased used in this project mostly consists from sensor measurements from production line. Other than sensor measurements this dataset also include values about the products and dates and times of processes. \n",
        "\n",
        "\n",
        "##Goal\n",
        "The purpose of the project is to find which part or phase of the production causes defective products. Is it possible to determine or even modelling, which product party will have more defective outcomes from sensor values? If it is how can we reduce the number defective products?\n",
        "\n",
        "This project is aimed to find answers to questions above. Since the modelling or predictions has no affect on the outcomes we will focus on analysis part much more. Predictive models will be used to find the part of inputs which causes defective products.\n",
        "\n",
        "\n",
        "##Expected Value Framework\n",
        "The expected benefit of the project is to find causes of the defective products and hence by designing the production line again to reduce the number of defective products. So our benefit, can be financially described as the difference between the cost of defective products before the project and after the project. So this difference of the costs must be higher than the project cost in order to be defined profitable. \n",
        "\n",
        "The lack of contact between persons who made this project and who made financial decisions from the inside of company makes it impossible to decide how higher benefit should be than the cost. \n",
        "\n",
        "But still we can describe the expected benefit formula of the project. Total number of products multipllied by its cost after analytics minus  total number of products multipllied by its cost before analytics. During the project these cost terms may change so they sould be defined concretely in the formula. \n",
        "\n",
        "After the expected benefit we need expected cost of the project and this cost could be specified with financial unit of the company. Since we don't have connection to financial unit we will be define expected cost as a function.\n",
        "\n",
        "Our result can be assesed by subtracting eepected value from expected cost. Our formula is as defined as below: \n",
        "\n",
        "**$${EV} = {EB} - {EL}$$**\n",
        "\n",
        "**EV** represents **Expected Value** and **Expected Value** equals to difference between **Expected Benefit** minus **Expected Loss**\n",
        "\n",
        "\n",
        "$$\n",
        "EV =\\frac{ {n_{1}} + {n_{2}} }{2} \\mathcal{\\left(\\frac{\\sum\\limits _{i}^{n_{1}} c_{b}}{n_{1}} \\ - \\frac{\\sum\\limits _{i}^{n_{2}} c_{a}}{n_{2}}\\right) \\ -\\ f( c)}\n",
        "$$\n",
        "\n",
        "EV represents the expected value and ${f( c)}$ is the cost function of the project. $n$ is the total number of products and $c_{a}$ and $c_{b}$ are the cost of the defective product respectively after the project and before the project.\n",
        "\n",
        "So according to this formula the gap between the total cost of the defective product before the project and after the project must be higher than the cost of the project in order to be profitable.\n",
        "\n",
        "---\n",
        "**Note:** *The diffrerence of the costs should be normalize. Because the number \n",
        "of products influences the costs between after and before the project.* So we multiplied normalized cost difference with $\\frac{ {n_{1}} + {n_{2}} }{2} $.\n",
        "\n",
        "---\n",
        "\n",
        "## Crisp-DM\n",
        "<img width=\"800\" src='https://www.datascience-pm.com/wp-content/uploads/2021/02/CRISP-DM.png' />\n",
        "\n",
        "\n",
        "\n",
        "## 1.   Business Understanding\n",
        "\n",
        "Business information has been given by the company's data science team to group. We defined an expected value framework above with respect to these informations.\n",
        "\n",
        "## 2.   Data Understanding\n",
        "First we got information from business department and then we tried to grasp deeply the dataset by using visualization techniques. \n",
        "\n",
        "## 3.   Data Preparation\n",
        "\n",
        "We have missing values and outliers to handle in our dataset. We used difference methods to deal with missing values and outliers. We will explain our methods on the presentation. \n",
        "\n",
        "After handle the outliers and missing values we will be try to enhance our dataset by using feature engineering. \n",
        "\n",
        "## 4.   Analysis and Modelling\n",
        "We used statistical tests and different models to optimize the problem. \n",
        "\n",
        "## 5.   Evaluation\n",
        "Statistical test will be examined by its own methods. Since we have a classification problem we will use models which is convenient to this problem. According to business department, it is hard to get well-fitted models to this dataset.\n",
        "\n",
        "## 6.   Deployment\n",
        "Since we have no intention to use this analysis in real world application we don't have to deploy our models and analysis.\n",
        "\n",
        "\n",
        "#### After business and data understanding we have a project cycle between the third and fifth section constantly. We keep going by improving our results.\n"
      ]
    },
    {
      "cell_type": "code",
      "metadata": {
        "colab": {
          "base_uri": "https://localhost:8080/"
        },
        "id": "-dqmaN-hW3qM",
        "outputId": "ed5b8c5a-f062-4b8f-d7a8-2c41ac38950c"
      },
      "source": [
        "print(\"Project Started!\")"
      ],
      "execution_count": null,
      "outputs": [
        {
          "output_type": "stream",
          "name": "stdout",
          "text": [
            "Project Started!\n"
          ]
        }
      ]
    }
  ]
}